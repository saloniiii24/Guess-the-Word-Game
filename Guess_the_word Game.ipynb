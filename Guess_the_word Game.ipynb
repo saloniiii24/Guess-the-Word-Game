{
 "cells": [
  {
   "cell_type": "markdown",
   "metadata": {},
   "source": [
    "## Name: saloni agrawal"
   ]
  },
  {
   "cell_type": "markdown",
   "metadata": {},
   "source": [
    "# GUESS THE WORD GAME"
   ]
  },
  {
   "cell_type": "code",
   "execution_count": 1,
   "metadata": {},
   "outputs": [],
   "source": [
    "import random\n",
    "import termcolor"
   ]
  },
  {
   "cell_type": "code",
   "execution_count": 2,
   "metadata": {},
   "outputs": [],
   "source": [
    "words = [\"charade\",\"airplane\",\"boat\", \"cough\", \"baby\", \"doll\", \"true\", \"truce\", \"ball\", \"blink\", \"cold\",\"ears\", \"fall\",\"laptop\",\n",
    "         \"ring\", \"proposal\",\"card\", \"toy\",\"rope\",\"phone\",\"scissors\",\"google\",\"spin\",\"hammer\",\"book\",\"clown\",\"toothbrush\",\"jump\",\n",
    "         \"clap\",\"slap\",\"archer\",\"ghost\",\"balance\",\"shoelaces\",\"sick\",\"balloon\", \"banana\", \"peel\",\"monster\",\"hiccup\",\"stomp\",\n",
    "         \"hurt\",\"hungry\",\"slip\",\"karate\",\"ladder\",\"scare\",\"fishing\",\"dizzy\",\"read\",\"hot\",\"birthday\",\"president\",\"apartment\",\n",
    "         \"cradle\",\"coffee\",\"trampoline\",\"waterfall\",\"window\",\"proud\",\"stuck-up\",\"flashlight\",\"marry\",\"overwhelm\",\"judge\",\n",
    "         \"shadow\",\"halo\",\"measure\",\"chomp\",\"slither\",\"Whale\",\"Snake\",\"Elephant\",\"Giraffe\",\"Dog\",\"Cat\",\"Ant\",\"Rabbit\",\n",
    "         \"Groundhog\",\"Hyena\",\"Kangaroo\",\"Shark\",\"Fish\",\"Polar Bear\",\"Caterpillar\",\"Cockroach\",\"Ram\",\"Monkey\",\"Jaguar\",\n",
    "         \"Rooster\", \"amazing\",\"gorgeous\", \"flappy\", \"scam\", \"mother\", \"evidence\", \"gossip\",\"host\",\"shy\", \"liberty\",\"equal\" ]"
   ]
  },
  {
   "cell_type": "code",
   "execution_count": 3,
   "metadata": {},
   "outputs": [
    {
     "data": {
      "text/plain": [
       "'airplane'"
      ]
     },
     "execution_count": 3,
     "metadata": {},
     "output_type": "execute_result"
    }
   ],
   "source": [
    "guess_word = random.choice(words)\n",
    "guess_word"
   ]
  },
  {
   "cell_type": "code",
   "execution_count": 4,
   "metadata": {},
   "outputs": [
    {
     "data": {
      "text/plain": [
       "'ae'"
      ]
     },
     "execution_count": 4,
     "metadata": {},
     "output_type": "execute_result"
    }
   ],
   "source": [
    "hint = guess_word[0]+ guess_word[-1]\n",
    "hint"
   ]
  },
  {
   "cell_type": "markdown",
   "metadata": {},
   "source": [
    "# <center> WHO AM I ? </center>\n",
    "<img src= \"https://media.giphy.com/media/xTiN0IuPQxRqzxodZm/giphy.gif\"> "
   ]
  },
  {
   "cell_type": "markdown",
   "metadata": {},
   "source": [
    "<h2> <center> I welcome you to the 'WORD GUESSING GAME'</center> </h4>"
   ]
  },
  {
   "cell_type": "markdown",
   "metadata": {},
   "source": [
    "__You will have to guess the word in just 3 attempts and win the game!__\n",
    "\n",
    "_you can take help from the hint provided_"
   ]
  },
  {
   "cell_type": "code",
   "execution_count": 5,
   "metadata": {},
   "outputs": [
    {
     "name": "stdout",
     "output_type": "stream",
     "text": [
      "\n",
      "Enter your name:\n",
      "saloni\n",
      "Welcome to the game! saloni\n"
     ]
    }
   ],
   "source": [
    "guess_list = []\n",
    "trial = 3\n",
    "name = input(\"\\nEnter your name:\\n\")\n",
    "print(\"Welcome to the game!\", name)\n"
   ]
  },
  {
   "cell_type": "code",
   "execution_count": 8,
   "metadata": {},
   "outputs": [
    {
     "name": "stdout",
     "output_type": "stream",
     "text": [
      "Guess The Letter:  a\n",
      "yes!\n",
      "Guess The Letter:  i\n",
      "yes!\n",
      "Guess The Letter:  r\n",
      "yes!\n",
      "\n",
      "would you like a hint?y\n",
      "\n",
      "The first and the last letter of the word is: ae\n",
      "\n",
      "now let's see what you've guessed so far.You have guessed 4 letters correctly!\n",
      "The words are: ['a', 'a', 'i', 'r']\n",
      "Guess the whole word: airplane\n",
      "Congratulations! you have guessed it right.\n",
      "\n",
      "Please press q to leave the game q\n"
     ]
    },
    {
     "data": {
      "text/plain": [
       "'q'"
      ]
     },
     "execution_count": 8,
     "metadata": {},
     "output_type": "execute_result"
    }
   ],
   "source": [
    "for guess in range (trial):\n",
    "    while True:\n",
    "        letter=input(\"Guess The Letter:  \")\n",
    "        if len(letter) == 1:\n",
    "            break\n",
    "        else:\n",
    "            print(\"oops! Please guess the letter!\")\n",
    "    if letter in guess_word:\n",
    "        print(\"yes!\")\n",
    "        guess_list.append(letter)\n",
    "    else:\n",
    "        print(\"no!\")\n",
    "    if guess == 2:\n",
    "        print()\n",
    "        hint_request = input(\"would you like a hint?\")\n",
    "        if hint_request.lower().startswith('y'):\n",
    "            print()\n",
    "            print(\"The first and the last letter of the word is:\", hint)\n",
    "        else:\n",
    "            print(\"Looks like you are very confident!\")\n",
    "print()\n",
    "print(\"now let's see what you've guessed so far.You have guessed\",len(guess_list), \"letters correctly!\")\n",
    "print(\"The words are:\", guess_list)\n",
    "\n",
    "word_guess = input(\"Guess the whole word: \")\n",
    "if word_guess == guess_word:\n",
    "    print(\"Congratulations! you have guessed it right.\")\n",
    "else:\n",
    "    print(\"Sorry! The correct answer was\", guess_word)\n",
    "    \n",
    "print()\n",
    "input(\"Please press q to leave the game \")"
   ]
  }
 ],
 "metadata": {
  "kernelspec": {
   "display_name": "Python 3",
   "language": "python",
   "name": "python3"
  },
  "language_info": {
   "codemirror_mode": {
    "name": "ipython",
    "version": 3
   },
   "file_extension": ".py",
   "mimetype": "text/x-python",
   "name": "python",
   "nbconvert_exporter": "python",
   "pygments_lexer": "ipython3",
   "version": "3.7.3"
  }
 },
 "nbformat": 4,
 "nbformat_minor": 4
}
